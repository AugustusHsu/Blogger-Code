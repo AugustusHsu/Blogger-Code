{
  "nbformat": 4,
  "nbformat_minor": 0,
  "metadata": {
    "colab": {
      "name": "test_triplet(tensorflow).ipynb",
      "provenance": [],
      "collapsed_sections": []
    },
    "kernelspec": {
      "name": "python3",
      "display_name": "Python 3"
    },
    "accelerator": "GPU"
  },
  "cells": [
    {
      "cell_type": "code",
      "metadata": {
        "id": "JoqBMlCg6SdV",
        "colab_type": "code",
        "outputId": "a4afc0d8-9bb2-4f78-8679-574dca4d1ed6",
        "colab": {
          "base_uri": "https://localhost:8080/",
          "height": 54
        }
      },
      "source": [
        "%tensorflow_version 2.x"
      ],
      "execution_count": 1,
      "outputs": [
        {
          "output_type": "stream",
          "text": [
            "TensorFlow 2.x selected.\n"
          ],
          "name": "stdout"
        }
      ]
    },
    {
      "cell_type": "code",
      "metadata": {
        "id": "L4BFJwce09h-",
        "colab_type": "code",
        "colab": {}
      },
      "source": [
        "import numpy as np\n",
        "import tensorflow as tf\n",
        "\n",
        "batch = 64\n",
        "emb_dim = 1024\n",
        "\n",
        "np.random.seed(1234)\n",
        "emb1 = np.random.rand(batch,emb_dim)\n",
        "np.random.seed(2345)\n",
        "emb2 = np.random.rand(batch,emb_dim)\n",
        "margin = 0.3\n",
        "labels = np.expand_dims(np.concatenate((np.arange(batch/2),np.arange(batch/2)), axis=0), axis=1)\n",
        "# labels = np.expand_dims(np.arange(batch), axis=1)"
      ],
      "execution_count": 0,
      "outputs": []
    },
    {
      "cell_type": "code",
      "metadata": {
        "id": "2TNO7S_h6i7z",
        "colab_type": "code",
        "outputId": "11c2dc3e-f010-48b4-ef72-170bc90c59bb",
        "colab": {
          "base_uri": "https://localhost:8080/",
          "height": 54
        }
      },
      "source": [
        "tf.__version__"
      ],
      "execution_count": 3,
      "outputs": [
        {
          "output_type": "execute_result",
          "data": {
            "text/plain": [
              "'2.1.0'"
            ]
          },
          "metadata": {
            "tags": []
          },
          "execution_count": 3
        }
      ]
    },
    {
      "cell_type": "code",
      "metadata": {
        "id": "frUe90dY1MLg",
        "colab_type": "code",
        "colab": {}
      },
      "source": [
        "def _distance_metric(x, y):\n",
        "    \"\"\"\n",
        "    Args:\n",
        "        x: tensor, with shape [m, d], (batch_size, d)\n",
        "        y: tensor, with shape [n, d], (batch_size, d)\n",
        "    Returns:\n",
        "        dist: tensor, with shape [m, n], (batch_size, batch_size)\n",
        "    \"\"\"\n",
        "    # |x-y|^2 = x^2 - 2xy + y^2\n",
        "    # xy\n",
        "    xy = tf.matmul(x, tf.transpose(y))\n",
        "    # x^2\n",
        "    xx = tf.matmul(x, tf.transpose(x))\n",
        "    xx = tf.linalg.diag_part(xx)\n",
        "    # y^2\n",
        "    yy = tf.matmul(y, tf.transpose(y))\n",
        "    yy = tf.linalg.diag_part(yy)\n",
        "    '''\n",
        "    (batch_size,1)-(batch_size,batch_size):\n",
        "        Equivalent to each column operation\n",
        "    (batch_size,batch_size)+(1,batch_size):\n",
        "        Equivalent to each row operation\n",
        "    '''\n",
        "    distances = tf.expand_dims(xx, 1) -2.0*xy + tf.expand_dims(yy, 0)\n",
        "    return distances"
      ],
      "execution_count": 0,
      "outputs": []
    },
    {
      "cell_type": "code",
      "metadata": {
        "id": "ONkKleIb1MRq",
        "colab_type": "code",
        "colab": {}
      },
      "source": [
        "def _label_mask(labels):\n",
        "    '''\n",
        "    if label is same, label_mask will return True\n",
        "    ------------------------------------\n",
        "    Args:\n",
        "        labels:     Label Data, shape = (batch_size,1)\n",
        "    Returns:\n",
        "        label_mask: tensor, with shape [m, n], (batch_size, batch_size)\n",
        "        ex.\n",
        "            labels = [1,0,1]\n",
        "            label_mask = [[1, 0, 1],\n",
        "                          [0, 1, 0],\n",
        "                          [1, 0, 1]]\n",
        "    '''\n",
        "    labels = tf.dtypes.cast(labels, tf.float32)\n",
        "    label_mask = _distance_metric(labels, labels)\n",
        "    label_mask = (label_mask == 0)\n",
        "    return label_mask\n",
        "    # tf.math.logical_not("
      ],
      "execution_count": 0,
      "outputs": []
    },
    {
      "cell_type": "code",
      "metadata": {
        "id": "xUXPbnl61MYk",
        "colab_type": "code",
        "colab": {}
      },
      "source": [
        "def batch_all(labels, emb1, emb2, margin):\n",
        "    '''\n",
        "    batch all triplet loss of a batch\n",
        "    ------------------------------------\n",
        "    Args:\n",
        "        labels:     Label Data, shape = (batch_size,1)\n",
        "        emb1, emb2: Embedding Feature, shape = (batch_size, vector_size)\n",
        "        margin:     margin, scalar\n",
        "    Returns:\n",
        "        triplet_loss: scalar, for one batch\n",
        "    '''\n",
        "    dist_mat = _distance_metric(emb1, emb2)\n",
        "    # an and ap mask\n",
        "    ap_mask = _label_mask(labels)\n",
        "    an_mask = tf.dtypes.cast(tf.math.logical_not(ap_mask), dtype=tf.float64)\n",
        "    ap_mask = tf.dtypes.cast(ap_mask, dtype=tf.float64)\n",
        "    # distance between anchor and positive\n",
        "    dist_ap = tf.reduce_sum(dist_mat*ap_mask, axis=1)/tf.reduce_sum(ap_mask, axis=1)\n",
        "    # ap - dist_mat + margin\n",
        "    mat = tf.expand_dims(dist_ap, 1) - dist_mat + margin\n",
        "    # only need ap-an\n",
        "    mat = mat*an_mask\n",
        "    # caluculate the number of valid triplet loss\n",
        "    mask = tf.dtypes.cast(tf.math.greater(mat, margin), dtype=tf.float64)\n",
        "    num_valid_triplets = tf.reduce_sum(mask)\n",
        "    triplet_loss = mat*mask\n",
        "    # <1 : 1\n",
        "    num_valid_triplets = tf.maximum(num_valid_triplets, 1.0)\n",
        "    # divided triplet_loss by num_valid_triplets\n",
        "    triplet_loss = tf.reduce_sum(triplet_loss)/(num_valid_triplets + 1e-16)\n",
        "    return triplet_loss, num_valid_triplets"
      ],
      "execution_count": 0,
      "outputs": []
    },
    {
      "cell_type": "code",
      "metadata": {
        "id": "aNRspMzJ1MfH",
        "colab_type": "code",
        "colab": {}
      },
      "source": [
        "triplet_loss, num_valid_triplets = batch_all(labels, emb1, emb2, margin)"
      ],
      "execution_count": 0,
      "outputs": []
    },
    {
      "cell_type": "code",
      "metadata": {
        "id": "ujZXCDEg1Mqj",
        "colab_type": "code",
        "outputId": "b881ab9a-a538-4426-86e2-3ed13afef733",
        "colab": {
          "base_uri": "https://localhost:8080/",
          "height": 54
        }
      },
      "source": [
        "triplet_loss"
      ],
      "execution_count": 8,
      "outputs": [
        {
          "output_type": "execute_result",
          "data": {
            "text/plain": [
              "<tf.Tensor: shape=(), dtype=float64, numpy=5.893566522818268>"
            ]
          },
          "metadata": {
            "tags": []
          },
          "execution_count": 8
        }
      ]
    },
    {
      "cell_type": "code",
      "metadata": {
        "id": "4W50DC3B1Myg",
        "colab_type": "code",
        "outputId": "0e6222b0-ab54-44fa-c7c3-bf826aabed8c",
        "colab": {
          "base_uri": "https://localhost:8080/",
          "height": 54
        }
      },
      "source": [
        "num_valid_triplets"
      ],
      "execution_count": 9,
      "outputs": [
        {
          "output_type": "execute_result",
          "data": {
            "text/plain": [
              "<tf.Tensor: shape=(), dtype=float64, numpy=1876.0>"
            ]
          },
          "metadata": {
            "tags": []
          },
          "execution_count": 9
        }
      ]
    },
    {
      "cell_type": "code",
      "metadata": {
        "id": "HktfKZ9v1Mnx",
        "colab_type": "code",
        "colab": {}
      },
      "source": [
        "def batch_hard(labels, emb1, emb2, margin):\n",
        "    '''\n",
        "    batch all triplet loss of a batch\n",
        "    ------------------------------------\n",
        "    Args:\n",
        "        labels:     Label Data, shape = (batch_size,1)\n",
        "        emb1, emb2: Embedding Feature, shape = (batch_size, vector_size)\n",
        "        margin:     margin, scalar\n",
        "    Returns:\n",
        "        triplet_loss: scalar, for one batch\n",
        "    '''\n",
        "    dist_mat = _distance_metric(emb1, emb2)\n",
        "    # an and ap mask\n",
        "    ap_mask = _label_mask(labels)\n",
        "    an_mask = tf.dtypes.cast(tf.math.logical_not(ap_mask), dtype=tf.float64)\n",
        "    ap_mask = tf.dtypes.cast(ap_mask, dtype=tf.float64)\n",
        "    # distance between anchor and positive\n",
        "    dist_ap = tf.reduce_sum(dist_mat*ap_mask, axis=1)/tf.reduce_sum(ap_mask, axis=1)\n",
        "    # caluculate the number of valid triplet loss\n",
        "    mat = tf.expand_dims(dist_ap, 1) - dist_mat + margin\n",
        "    mat = mat*an_mask\n",
        "    mask = tf.dtypes.cast(tf.math.greater(mat, margin), dtype=tf.float64)\n",
        "    num_valid_triplets = tf.reduce_sum(mask)\n",
        "\n",
        "    # the max of distance between anchor and positive\n",
        "    dist_ap = tf.reduce_max(dist_mat*ap_mask, axis=1)\n",
        "    # the max of distance between anchor and negative\n",
        "    max_num = tf.reduce_max(dist_mat)\n",
        "    dist_an = dist_mat*an_mask + ap_mask*max_num\n",
        "    dist_an = tf.reduce_min(dist_an, axis=1)\n",
        "    # ap - dist_mat + margin\n",
        "    mat = dist_ap - dist_an + margin\n",
        "    triplet_loss = tf.reduce_mean(mat)\n",
        "    # <1 : 1\n",
        "    triplet_loss = tf.maximum(triplet_loss, 1e-16)\n",
        "    return triplet_loss, num_valid_triplets"
      ],
      "execution_count": 0,
      "outputs": []
    },
    {
      "cell_type": "code",
      "metadata": {
        "id": "FQupr7QQ1Mle",
        "colab_type": "code",
        "colab": {}
      },
      "source": [
        "triplet_loss, num_valid_triplets = batch_hard(labels, emb1, emb2, margin)"
      ],
      "execution_count": 0,
      "outputs": []
    },
    {
      "cell_type": "code",
      "metadata": {
        "id": "ZHd2tGZQWYVK",
        "colab_type": "code",
        "colab": {
          "base_uri": "https://localhost:8080/",
          "height": 54
        },
        "outputId": "def52651-f410-433e-eb96-5202c6e3464b"
      },
      "source": [
        "triplet_loss"
      ],
      "execution_count": 12,
      "outputs": [
        {
          "output_type": "execute_result",
          "data": {
            "text/plain": [
              "<tf.Tensor: shape=(), dtype=float64, numpy=16.31944241777626>"
            ]
          },
          "metadata": {
            "tags": []
          },
          "execution_count": 12
        }
      ]
    },
    {
      "cell_type": "code",
      "metadata": {
        "id": "3sm6a50pWM90",
        "colab_type": "code",
        "colab": {
          "base_uri": "https://localhost:8080/",
          "height": 54
        },
        "outputId": "6f9efd4a-3808-4d60-8022-8d881a1a38e7"
      },
      "source": [
        "num_valid_triplets"
      ],
      "execution_count": 13,
      "outputs": [
        {
          "output_type": "execute_result",
          "data": {
            "text/plain": [
              "<tf.Tensor: shape=(), dtype=float64, numpy=1876.0>"
            ]
          },
          "metadata": {
            "tags": []
          },
          "execution_count": 13
        }
      ]
    }
  ]
}