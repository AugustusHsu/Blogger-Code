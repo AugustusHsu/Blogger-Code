{
  "nbformat": 4,
  "nbformat_minor": 0,
  "metadata": {
    "colab": {
      "name": "test_triplet(tensorflow).ipynb",
      "provenance": [],
      "collapsed_sections": []
    },
    "kernelspec": {
      "name": "python3",
      "display_name": "Python 3"
    },
    "accelerator": "GPU"
  },
  "cells": [
    {
      "cell_type": "code",
      "metadata": {
        "id": "JoqBMlCg6SdV",
        "colab_type": "code",
        "outputId": "553e8419-ccd6-4d62-edce-a77ab6472a76",
        "colab": {
          "base_uri": "https://localhost:8080/",
          "height": 600
        }
      },
      "source": [
        "!pip install tensorflow==2.0.0"
      ],
      "execution_count": 2,
      "outputs": [
        {
          "output_type": "stream",
          "text": [
            "Requirement already satisfied: tensorflow==2.0.0 in /usr/local/lib/python3.6/dist-packages (2.0.0)\n",
            "Requirement already satisfied: protobuf>=3.6.1 in /usr/local/lib/python3.6/dist-packages (from tensorflow==2.0.0) (3.10.0)\n",
            "Requirement already satisfied: gast==0.2.2 in /usr/local/lib/python3.6/dist-packages (from tensorflow==2.0.0) (0.2.2)\n",
            "Requirement already satisfied: opt-einsum>=2.3.2 in /usr/local/lib/python3.6/dist-packages (from tensorflow==2.0.0) (3.1.0)\n",
            "Requirement already satisfied: grpcio>=1.8.6 in /usr/local/lib/python3.6/dist-packages (from tensorflow==2.0.0) (1.15.0)\n",
            "Requirement already satisfied: termcolor>=1.1.0 in /usr/local/lib/python3.6/dist-packages (from tensorflow==2.0.0) (1.1.0)\n",
            "Requirement already satisfied: absl-py>=0.7.0 in /usr/local/lib/python3.6/dist-packages (from tensorflow==2.0.0) (0.9.0)\n",
            "Requirement already satisfied: wrapt>=1.11.1 in /usr/local/lib/python3.6/dist-packages (from tensorflow==2.0.0) (1.11.2)\n",
            "Requirement already satisfied: wheel>=0.26 in /usr/local/lib/python3.6/dist-packages (from tensorflow==2.0.0) (0.34.2)\n",
            "Requirement already satisfied: astor>=0.6.0 in /usr/local/lib/python3.6/dist-packages (from tensorflow==2.0.0) (0.8.1)\n",
            "Requirement already satisfied: keras-applications>=1.0.8 in /usr/local/lib/python3.6/dist-packages (from tensorflow==2.0.0) (1.0.8)\n",
            "Requirement already satisfied: google-pasta>=0.1.6 in /usr/local/lib/python3.6/dist-packages (from tensorflow==2.0.0) (0.1.8)\n",
            "Requirement already satisfied: numpy<2.0,>=1.16.0 in /usr/local/lib/python3.6/dist-packages (from tensorflow==2.0.0) (1.17.5)\n",
            "Requirement already satisfied: keras-preprocessing>=1.0.5 in /usr/local/lib/python3.6/dist-packages (from tensorflow==2.0.0) (1.1.0)\n",
            "Requirement already satisfied: tensorflow-estimator<2.1.0,>=2.0.0 in /usr/local/lib/python3.6/dist-packages (from tensorflow==2.0.0) (2.0.1)\n",
            "Requirement already satisfied: six>=1.10.0 in /usr/local/lib/python3.6/dist-packages (from tensorflow==2.0.0) (1.12.0)\n",
            "Requirement already satisfied: tensorboard<2.1.0,>=2.0.0 in /usr/local/lib/python3.6/dist-packages (from tensorflow==2.0.0) (2.0.2)\n",
            "Requirement already satisfied: setuptools in /usr/local/lib/python3.6/dist-packages (from protobuf>=3.6.1->tensorflow==2.0.0) (45.1.0)\n",
            "Requirement already satisfied: h5py in /usr/local/lib/python3.6/dist-packages (from keras-applications>=1.0.8->tensorflow==2.0.0) (2.8.0)\n",
            "Requirement already satisfied: markdown>=2.6.8 in /usr/local/lib/python3.6/dist-packages (from tensorboard<2.1.0,>=2.0.0->tensorflow==2.0.0) (3.1.1)\n",
            "Requirement already satisfied: werkzeug>=0.11.15 in /usr/local/lib/python3.6/dist-packages (from tensorboard<2.1.0,>=2.0.0->tensorflow==2.0.0) (0.16.1)\n",
            "Requirement already satisfied: google-auth-oauthlib<0.5,>=0.4.1 in /usr/local/lib/python3.6/dist-packages (from tensorboard<2.1.0,>=2.0.0->tensorflow==2.0.0) (0.4.1)\n",
            "Requirement already satisfied: requests<3,>=2.21.0 in /usr/local/lib/python3.6/dist-packages (from tensorboard<2.1.0,>=2.0.0->tensorflow==2.0.0) (2.21.0)\n",
            "Requirement already satisfied: google-auth<2,>=1.6.3 in /usr/local/lib/python3.6/dist-packages (from tensorboard<2.1.0,>=2.0.0->tensorflow==2.0.0) (1.11.0)\n",
            "Requirement already satisfied: requests-oauthlib>=0.7.0 in /usr/local/lib/python3.6/dist-packages (from google-auth-oauthlib<0.5,>=0.4.1->tensorboard<2.1.0,>=2.0.0->tensorflow==2.0.0) (1.3.0)\n",
            "Requirement already satisfied: chardet<3.1.0,>=3.0.2 in /usr/local/lib/python3.6/dist-packages (from requests<3,>=2.21.0->tensorboard<2.1.0,>=2.0.0->tensorflow==2.0.0) (3.0.4)\n",
            "Requirement already satisfied: certifi>=2017.4.17 in /usr/local/lib/python3.6/dist-packages (from requests<3,>=2.21.0->tensorboard<2.1.0,>=2.0.0->tensorflow==2.0.0) (2019.11.28)\n",
            "Requirement already satisfied: idna<2.9,>=2.5 in /usr/local/lib/python3.6/dist-packages (from requests<3,>=2.21.0->tensorboard<2.1.0,>=2.0.0->tensorflow==2.0.0) (2.8)\n",
            "Requirement already satisfied: urllib3<1.25,>=1.21.1 in /usr/local/lib/python3.6/dist-packages (from requests<3,>=2.21.0->tensorboard<2.1.0,>=2.0.0->tensorflow==2.0.0) (1.24.3)\n",
            "Requirement already satisfied: rsa<4.1,>=3.1.4 in /usr/local/lib/python3.6/dist-packages (from google-auth<2,>=1.6.3->tensorboard<2.1.0,>=2.0.0->tensorflow==2.0.0) (4.0)\n",
            "Requirement already satisfied: cachetools<5.0,>=2.0.0 in /usr/local/lib/python3.6/dist-packages (from google-auth<2,>=1.6.3->tensorboard<2.1.0,>=2.0.0->tensorflow==2.0.0) (4.0.0)\n",
            "Requirement already satisfied: pyasn1-modules>=0.2.1 in /usr/local/lib/python3.6/dist-packages (from google-auth<2,>=1.6.3->tensorboard<2.1.0,>=2.0.0->tensorflow==2.0.0) (0.2.8)\n",
            "Requirement already satisfied: oauthlib>=3.0.0 in /usr/local/lib/python3.6/dist-packages (from requests-oauthlib>=0.7.0->google-auth-oauthlib<0.5,>=0.4.1->tensorboard<2.1.0,>=2.0.0->tensorflow==2.0.0) (3.1.0)\n",
            "Requirement already satisfied: pyasn1>=0.1.3 in /usr/local/lib/python3.6/dist-packages (from rsa<4.1,>=3.1.4->google-auth<2,>=1.6.3->tensorboard<2.1.0,>=2.0.0->tensorflow==2.0.0) (0.4.8)\n"
          ],
          "name": "stdout"
        }
      ]
    },
    {
      "cell_type": "code",
      "metadata": {
        "id": "L4BFJwce09h-",
        "colab_type": "code",
        "colab": {}
      },
      "source": [
        "import numpy as np\n",
        "import tensorflow as tf\n",
        "\n",
        "batch = 64\n",
        "emb_dim = 1024\n",
        "\n",
        "np.random.seed(1234)\n",
        "emb1 = np.random.rand(batch,emb_dim).astype(np.float32)\n",
        "np.random.seed(2345)\n",
        "emb2 = np.random.rand(batch,emb_dim).astype(np.float32)\n",
        "margin = 0.3\n",
        "labels = np.concatenate((np.arange(batch/2),np.arange(batch/2)), axis=0)\n",
        "# labels = np.expand_dims(np.arange(batch), axis=1)"
      ],
      "execution_count": 0,
      "outputs": []
    },
    {
      "cell_type": "code",
      "metadata": {
        "id": "csf7kb6gtKii",
        "colab_type": "code",
        "colab": {
          "base_uri": "https://localhost:8080/",
          "height": 54
        },
        "outputId": "61a9a072-e253-41ee-876b-e467f3fa0113"
      },
      "source": [
        "labels.shape"
      ],
      "execution_count": 19,
      "outputs": [
        {
          "output_type": "execute_result",
          "data": {
            "text/plain": [
              "(64,)"
            ]
          },
          "metadata": {
            "tags": []
          },
          "execution_count": 19
        }
      ]
    },
    {
      "cell_type": "code",
      "metadata": {
        "id": "2TNO7S_h6i7z",
        "colab_type": "code",
        "outputId": "fb4122aa-d3ba-4d42-c8b2-23abddc01322",
        "colab": {
          "base_uri": "https://localhost:8080/",
          "height": 54
        }
      },
      "source": [
        "tf.__version__"
      ],
      "execution_count": 20,
      "outputs": [
        {
          "output_type": "execute_result",
          "data": {
            "text/plain": [
              "'2.0.0'"
            ]
          },
          "metadata": {
            "tags": []
          },
          "execution_count": 20
        }
      ]
    },
    {
      "cell_type": "code",
      "metadata": {
        "id": "frUe90dY1MLg",
        "colab_type": "code",
        "colab": {}
      },
      "source": [
        "def _distance_metric(x, y):\n",
        "    \"\"\"\n",
        "    Args:\n",
        "        x: tensor, with shape [m, d], (batch_size, d)\n",
        "        y: tensor, with shape [n, d], (batch_size, d)\n",
        "    Returns:\n",
        "        dist: tensor, with shape [m, n], (batch_size, batch_size)\n",
        "    \"\"\"\n",
        "    # |x-y|^2 = x^2 - 2xy + y^2\n",
        "    # xy\n",
        "    xy = tf.matmul(x, tf.transpose(y))\n",
        "    # x^2\n",
        "    xx = tf.matmul(x, tf.transpose(x))\n",
        "    xx = tf.linalg.diag_part(xx)\n",
        "    # y^2\n",
        "    yy = tf.matmul(y, tf.transpose(y))\n",
        "    yy = tf.linalg.diag_part(yy)\n",
        "    '''\n",
        "    (batch_size,1)-(batch_size,batch_size):\n",
        "        Equivalent to each column operation\n",
        "    (batch_size,batch_size)+(1,batch_size):\n",
        "        Equivalent to each row operation\n",
        "    '''\n",
        "    distances = tf.expand_dims(xx, 1) - 2.0*xy + tf.expand_dims(yy, 0)\n",
        "    return distances"
      ],
      "execution_count": 0,
      "outputs": []
    },
    {
      "cell_type": "code",
      "metadata": {
        "id": "ONkKleIb1MRq",
        "colab_type": "code",
        "colab": {}
      },
      "source": [
        "def _label_mask(labels):\n",
        "    '''\n",
        "    if label is same, label_mask will return True\n",
        "    ------------------------------------\n",
        "    Args:\n",
        "        labels:     Label Data, shape = (batch_size,1)\n",
        "    Returns:\n",
        "        label_mask: tensor, with shape [m, n], (batch_size, batch_size)\n",
        "        ex.\n",
        "            labels = [1,0,1]\n",
        "            label_mask = [[1, 0, 1],\n",
        "                          [0, 1, 0],\n",
        "                          [1, 0, 1]]\n",
        "    '''\n",
        "    label_mask = tf.equal(tf.expand_dims(labels, 0), tf.expand_dims(labels, 1))\n",
        "    return label_mask"
      ],
      "execution_count": 0,
      "outputs": []
    },
    {
      "cell_type": "code",
      "metadata": {
        "id": "xUXPbnl61MYk",
        "colab_type": "code",
        "colab": {}
      },
      "source": [
        "def batch_all(labels, emb1, emb2, margin):\n",
        "    '''\n",
        "    batch all triplet loss of a batch\n",
        "    ------------------------------------\n",
        "    Args:\n",
        "        labels:     Label Data, shape = (batch_size,1)\n",
        "        emb1, emb2: Embedding Feature, shape = (batch_size, vector_size)\n",
        "        margin:     margin, scalar\n",
        "    Returns:\n",
        "        triplet_loss: scalar, for one batch\n",
        "    '''\n",
        "    dist_mat = _distance_metric(emb1, emb2)\n",
        "    # an and ap mask\n",
        "    ap_mask = _label_mask(labels)\n",
        "    an_mask = tf.dtypes.cast(tf.math.logical_not(ap_mask), dtype=tf.float32)\n",
        "    ap_mask = tf.dtypes.cast(ap_mask, dtype=tf.float32)\n",
        "    # distance between anchor and positive\n",
        "    dist_ap = tf.reduce_sum(dist_mat*ap_mask, axis=1)/tf.reduce_sum(ap_mask, axis=1)\n",
        "    # ap - dist_mat + margin\n",
        "    mat = tf.expand_dims(dist_ap, 1) - dist_mat + margin\n",
        "    # only need ap-an\n",
        "    mat = mat*an_mask\n",
        "    # caluculate the number of valid triplet loss\n",
        "    mask = tf.dtypes.cast(tf.math.greater(mat, 0.0), dtype=tf.float32)\n",
        "    num_valid_triplets = tf.reduce_sum(mask)\n",
        "    triplet_loss = mat*mask\n",
        "    # <1 : 1\n",
        "    num_valid_triplets = tf.maximum(num_valid_triplets, 1.0)\n",
        "    # divided triplet_loss by num_valid_triplets\n",
        "    triplet_loss = tf.reduce_sum(triplet_loss)/(num_valid_triplets + 1e-16)\n",
        "    return triplet_loss, num_valid_triplets"
      ],
      "execution_count": 0,
      "outputs": []
    },
    {
      "cell_type": "code",
      "metadata": {
        "id": "aNRspMzJ1MfH",
        "colab_type": "code",
        "colab": {}
      },
      "source": [
        "triplet_loss, num_valid_triplets = batch_all(labels, emb1, emb2, margin)"
      ],
      "execution_count": 0,
      "outputs": []
    },
    {
      "cell_type": "code",
      "metadata": {
        "id": "ujZXCDEg1Mqj",
        "colab_type": "code",
        "outputId": "c21deeb6-069d-47ca-bb49-412b350928cb",
        "colab": {
          "base_uri": "https://localhost:8080/",
          "height": 54
        }
      },
      "source": [
        "triplet_loss"
      ],
      "execution_count": 28,
      "outputs": [
        {
          "output_type": "execute_result",
          "data": {
            "text/plain": [
              "<tf.Tensor: id=237, shape=(), dtype=float32, numpy=5.733356>"
            ]
          },
          "metadata": {
            "tags": []
          },
          "execution_count": 28
        }
      ]
    },
    {
      "cell_type": "code",
      "metadata": {
        "id": "4W50DC3B1Myg",
        "colab_type": "code",
        "outputId": "ef87dabf-b76f-4f6e-d5e7-06bd1649eabb",
        "colab": {
          "base_uri": "https://localhost:8080/",
          "height": 54
        }
      },
      "source": [
        "num_valid_triplets"
      ],
      "execution_count": 29,
      "outputs": [
        {
          "output_type": "execute_result",
          "data": {
            "text/plain": [
              "<tf.Tensor: id=232, shape=(), dtype=float32, numpy=1930.0>"
            ]
          },
          "metadata": {
            "tags": []
          },
          "execution_count": 29
        }
      ]
    },
    {
      "cell_type": "code",
      "metadata": {
        "id": "HktfKZ9v1Mnx",
        "colab_type": "code",
        "colab": {}
      },
      "source": [
        "def batch_hard(labels, emb1, emb2, margin):\n",
        "    '''\n",
        "    batch hard triplet loss of a batch\n",
        "    ------------------------------------\n",
        "    Args:\n",
        "        labels:     Label Data, shape = (batch_size,1)\n",
        "        emb1, emb2: Embedding Feature, shape = (batch_size, vector_size)\n",
        "        margin:     margin, scalar\n",
        "    Returns:\n",
        "        triplet_loss: scalar, for one batch\n",
        "    '''\n",
        "    dist_mat = _distance_metric(emb1, emb2)\n",
        "    # an and ap mask\n",
        "    ap_mask = _label_mask(labels)\n",
        "    an_mask = tf.dtypes.cast(tf.math.logical_not(ap_mask), dtype=tf.float32)\n",
        "    ap_mask = tf.dtypes.cast(ap_mask, dtype=tf.float32)\n",
        "    # distance between anchor and positive\n",
        "    dist_ap = tf.reduce_sum(dist_mat*ap_mask, axis=1)/tf.reduce_sum(ap_mask, axis=1)\n",
        "    # ap - dist_mat + margin\n",
        "    mat = tf.expand_dims(dist_ap, 1) - dist_mat + margin\n",
        "    # only need ap-an\n",
        "    mat = mat*an_mask\n",
        "    # caluculate the number of valid triplet loss\n",
        "    mask = tf.dtypes.cast(tf.math.greater(mat, 0.0), dtype=tf.float32)\n",
        "    num_valid_triplets = tf.reduce_sum(mask)\n",
        "\n",
        "    # the max of distance between anchor and positive\n",
        "    hardest_dist_ap = tf.reduce_max(dist_mat*ap_mask, axis=1)\n",
        "    # the max of distance of all dist_mat\n",
        "    max_num = tf.reduce_max(dist_mat, axis=1)\n",
        "    # the max of distance between anchor and negative\n",
        "    hardest_dist_an = dist_mat*an_mask + ap_mask*max_num\n",
        "    hardest_dist_an = tf.reduce_min(hardest_dist_an, axis=1)\n",
        "    # ap - dist_mat + margin\n",
        "    mat = hardest_dist_ap - hardest_dist_an + margin\n",
        "    # caluculate the number of valid triplet loss\n",
        "    # mask = tf.dtypes.cast(tf.math.greater(mat, 0.0), dtype=tf.float32)\n",
        "    # triplet_loss = tf.reduce_mean(mat*mask)\n",
        "    # triplet_loss = tf.maximum(triplet_loss, 0.0)\n",
        "    triplet_loss = tf.maximum(mat, 0.0)\n",
        "    triplet_loss = tf.reduce_mean(triplet_loss)\n",
        "    return triplet_loss, num_valid_triplets"
      ],
      "execution_count": 0,
      "outputs": []
    },
    {
      "cell_type": "code",
      "metadata": {
        "id": "FQupr7QQ1Mle",
        "colab_type": "code",
        "colab": {}
      },
      "source": [
        "triplet_loss, num_valid_triplets = batch_hard(labels, emb1, emb2, margin)"
      ],
      "execution_count": 0,
      "outputs": []
    },
    {
      "cell_type": "code",
      "metadata": {
        "id": "ZHd2tGZQWYVK",
        "colab_type": "code",
        "outputId": "fb6207de-a94f-48e9-c58b-2099519f5cce",
        "colab": {
          "base_uri": "https://localhost:8080/",
          "height": 54
        }
      },
      "source": [
        "triplet_loss"
      ],
      "execution_count": 32,
      "outputs": [
        {
          "output_type": "execute_result",
          "data": {
            "text/plain": [
              "<tf.Tensor: id=306, shape=(), dtype=float32, numpy=16.31944>"
            ]
          },
          "metadata": {
            "tags": []
          },
          "execution_count": 32
        }
      ]
    },
    {
      "cell_type": "code",
      "metadata": {
        "id": "3sm6a50pWM90",
        "colab_type": "code",
        "outputId": "6e056d82-a077-439e-98d7-7b91daf72302",
        "colab": {
          "base_uri": "https://localhost:8080/",
          "height": 54
        }
      },
      "source": [
        "num_valid_triplets"
      ],
      "execution_count": 33,
      "outputs": [
        {
          "output_type": "execute_result",
          "data": {
            "text/plain": [
              "<tf.Tensor: id=289, shape=(), dtype=float32, numpy=1930.0>"
            ]
          },
          "metadata": {
            "tags": []
          },
          "execution_count": 33
        }
      ]
    },
    {
      "cell_type": "code",
      "metadata": {
        "id": "IGCqY1vVrTlt",
        "colab_type": "code",
        "colab": {}
      },
      "source": [
        ""
      ],
      "execution_count": 0,
      "outputs": []
    }
  ]
}